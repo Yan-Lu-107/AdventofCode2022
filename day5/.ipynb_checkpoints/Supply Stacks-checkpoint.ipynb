{
 "cells": [
  {
   "cell_type": "markdown",
   "metadata": {},
   "source": [
    "--- Day 5: Supply Stacks ---\n",
    "The expedition can depart as soon as the final supplies have been unloaded from the ships. Supplies are stored in stacks of marked crates, but because the needed supplies are buried under many other crates, the crates need to be rearranged.\n",
    "\n",
    "The ship has a giant cargo crane capable of moving crates between stacks. To ensure none of the crates get crushed or fall over, the crane operator will rearrange them in a series of carefully-planned steps. After the crates are rearranged, the desired crates will be at the top of each stack.\n",
    "\n",
    "The Elves don't want to interrupt the crane operator during this delicate procedure, but they forgot to ask her which crate will end up where, and they want to be ready to unload them as soon as possible so they can embark.\n",
    "\n",
    "They do, however, have a drawing of the starting stacks of crates and the rearrangement procedure (your puzzle input). For example:\n",
    "\n",
    "    [D]    \n",
    "[N] [C]    \n",
    "[Z] [M] [P]\n",
    " 1   2   3 \n",
    "\n",
    "move 1 from 2 to 1\n",
    "move 3 from 1 to 3\n",
    "move 2 from 2 to 1\n",
    "move 1 from 1 to 2\n",
    "In this example, there are three stacks of crates. Stack 1 contains two crates: crate Z is on the bottom, and crate N is on top. Stack 2 contains three crates; from bottom to top, they are crates M, C, and D. Finally, stack 3 contains a single crate, P.\n",
    "\n",
    "Then, the rearrangement procedure is given. In each step of the procedure, a quantity of crates is moved from one stack to a different stack. In the first step of the above rearrangement procedure, one crate is moved from stack 2 to stack 1, resulting in this configuration:\n",
    "\n",
    "[D]        \n",
    "[N] [C]    \n",
    "[Z] [M] [P]\n",
    " 1   2   3 \n",
    "In the second step, three crates are moved from stack 1 to stack 3. Crates are moved one at a time, so the first crate to be moved (D) ends up below the second and third crates:\n",
    "\n",
    "        [Z]\n",
    "        [N]\n",
    "    [C] [D]\n",
    "    [M] [P]\n",
    " 1   2   3\n",
    "Then, both crates are moved from stack 2 to stack 1. Again, because crates are moved one at a time, crate C ends up below crate M:\n",
    "\n",
    "        [Z]\n",
    "        [N]\n",
    "[M]     [D]\n",
    "[C]     [P]\n",
    " 1   2   3\n",
    "Finally, one crate is moved from stack 1 to stack 2:\n",
    "\n",
    "        [Z]\n",
    "        [N]\n",
    "        [D]\n",
    "[C] [M] [P]\n",
    " 1   2   3\n",
    "The Elves just need to know which crate will end up on top of each stack; in this example, the top crates are C in stack 1, M in stack 2, and Z in stack 3, so you should combine these together and give the Elves the message CMZ.\n",
    "\n",
    "After the rearrangement procedure completes, what crate ends up on top of each stack?\n"
   ]
  },
  {
   "cell_type": "code",
   "execution_count": 2,
   "metadata": {},
   "outputs": [],
   "source": [
    "from itertools import islice\n",
    "import itertools\n",
    "\n",
    "def split_into_specific_len(input_data,length_to_split):\n",
    "    input_data=iter(input_data)\n",
    "    output = [list(islice(input_data, elem))\n",
    "            for elem in length_to_split]\n",
    "    return output"
   ]
  },
  {
   "cell_type": "code",
   "execution_count": 3,
   "metadata": {},
   "outputs": [],
   "source": [
    "my_file = open('./data.txt', \"r\")\n",
    "data_input = my_file.read()\n",
    "move_times=len(data_input.split(\"\\n\"))\n",
    "\n",
    "data_input=data_input.replace(\"\\n\",\" \").replace(\"move \",\"\").replace(\"from \",\"\").replace(\"to \",\"\")\n",
    "\n",
    "length_to_split=[3]*move_times\n",
    "\n",
    "move_steps= split_into_specific_len(data_input.split(\" \"),length_to_split)"
   ]
  },
  {
   "cell_type": "code",
   "execution_count": 4,
   "metadata": {},
   "outputs": [
    {
     "name": "stdout",
     "output_type": "stream",
     "text": [
      "[T] [V]                     [W]    \n",
      "[V] [C] [P] [D]             [B]    \n",
      "[J] [P] [R] [N] [B]         [Z]    \n",
      "[W] [Q] [D] [M] [T]     [L] [T]    \n",
      "[N] [J] [H] [B] [P] [T] [P] [L]    \n",
      "[R] [D] [F] [P] [R] [P] [R] [S] [G]\n",
      "[M] [W] [J] [R] [V] [B] [J] [C] [S]\n",
      "[S] [B] [B] [F] [H] [C] [B] [N] [L]\n",
      " 1   2   3   4   5   6   7   8   9 \n"
     ]
    }
   ],
   "source": [
    "my_file = open('./crates.txt', \"r\")\n",
    "data_input_crates = my_file.read()\n",
    "print(data_input_crates)\n",
    "data_crates=data_input_crates.replace(\"\\n\",\"\")"
   ]
  },
  {
   "cell_type": "code",
   "execution_count": 5,
   "metadata": {},
   "outputs": [
    {
     "name": "stdout",
     "output_type": "stream",
     "text": [
      "['TVJWNRMS', 'VCPQJDWB', 'PRDHFJB', 'DNMBPRF', 'BTPRVH', 'TPBC', 'LPRJB', 'WBZTLSCN', 'GSL']\n"
     ]
    }
   ],
   "source": [
    "length_to_split = ([4]*8+[3])*8+[len(data_crates)-280]\n",
    "output_crates=split_into_specific_len(data_crates, length_to_split)\n",
    "data_crates_list=[\"\"]*9\n",
    "for items,i in zip(output_crates,list(range(9)) * 8):\n",
    "    data_crates_list[i]+=items[1]\n",
    "    data_crates_list[i]=data_crates_list[i].strip(\" \")\n",
    "print(data_crates_list)\n"
   ]
  },
  {
   "cell_type": "code",
   "execution_count": 6,
   "metadata": {},
   "outputs": [],
   "source": [
    "def get_first_letter(data_crates_list):\n",
    "    first_letter=[]\n",
    "    for element in data_crates_list:        \n",
    "        try:\n",
    "            first_letter.append(element[0])\n",
    "        except IndexError:\n",
    "            first_letter.append(\"\")\n",
    "    first_letter_list=\"\".join(first_letter)\n",
    "    return first_letter_list"
   ]
  },
  {
   "cell_type": "code",
   "execution_count": 7,
   "metadata": {
    "scrolled": true
   },
   "outputs": [],
   "source": [
    "def move_crates(move_steps,data_crates_list_input,reverse_oder=False):\n",
    "    data_crates_list_output=data_crates_list_input.copy()\n",
    "    for move_step in move_steps:\n",
    "        move_nr,reduce_column,add_column=move_step\n",
    "        move_part=data_crates_list_output[int(reduce_column)-1][:int(move_nr)]\n",
    "        data_crates_list_output[int(reduce_column)-1]=data_crates_list_output[int(reduce_column)-1].replace(move_part,\"\", 1)\n",
    "        if(reverse_oder):\n",
    "            data_crates_list_output[int(add_column)-1]=move_part[::-1]+data_crates_list_output[int(add_column)-1]\n",
    "        else:\n",
    "            data_crates_list_output[int(add_column)-1]=move_part+data_crates_list_output[int(add_column)-1]\n",
    "    first_letter_list = get_first_letter(data_crates_list_output)\n",
    "\n",
    "    return first_letter_list"
   ]
  },
  {
   "cell_type": "code",
   "execution_count": 8,
   "metadata": {},
   "outputs": [
    {
     "name": "stdout",
     "output_type": "stream",
     "text": [
      "LJSVLTWQM\n"
     ]
    }
   ],
   "source": [
    "first_letter_list_part1 = move_crates(move_steps,data_crates_list,reverse_oder=True)\n",
    "print(first_letter_list_part1)"
   ]
  },
  {
   "cell_type": "code",
   "execution_count": 9,
   "metadata": {},
   "outputs": [
    {
     "name": "stdout",
     "output_type": "stream",
     "text": [
      "BRQWDBBJM\n"
     ]
    }
   ],
   "source": [
    "first_letter_list_part2 = move_crates(move_steps,data_crates_list)\n",
    "print(first_letter_list_part2)\n"
   ]
  }
 ],
 "metadata": {
  "kernelspec": {
   "display_name": "Python 3",
   "language": "python",
   "name": "python3"
  },
  "language_info": {
   "codemirror_mode": {
    "name": "ipython",
    "version": 3
   },
   "file_extension": ".py",
   "mimetype": "text/x-python",
   "name": "python",
   "nbconvert_exporter": "python",
   "pygments_lexer": "ipython3",
   "version": "3.7.6"
  }
 },
 "nbformat": 4,
 "nbformat_minor": 4
}
