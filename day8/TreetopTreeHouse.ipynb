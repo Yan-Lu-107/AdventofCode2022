{
 "cells": [
  {
   "cell_type": "markdown",
   "metadata": {},
   "source": [
    "--- Day 8: Treetop Tree House ---\n",
    "\n",
    "The expedition comes across a peculiar patch of tall trees all planted carefully in a grid. The Elves explain that a previous expedition planted these trees as a reforestation effort. Now, they're curious if this would be a good location for a tree house.\n",
    "\n",
    "First, determine whether there is enough tree cover here to keep a tree house hidden. To do this, you need to count the number of trees that are visible from outside the grid when looking directly along a row or column.\n",
    "\n",
    "The Elves have already launched a quadcopter to generate a map with the height of each tree (your puzzle input). For example:\n",
    "\n",
    "30373\n",
    "25512\n",
    "65332\n",
    "33549\n",
    "35390\n",
    "Each tree is represented as a single digit whose value is its height, where 0 is the shortest and 9 is the tallest.\n",
    "\n",
    "A tree is visible if all of the other trees between it and an edge of the grid are shorter than it. Only consider trees in the same row or column; that is, only look up, down, left, or right from any given tree.\n",
    "\n",
    "All of the trees around the edge of the grid are visible - since they are already on the edge, there are no trees to block the view. In this example, that only leaves the interior nine trees to consider:\n",
    "\n",
    "The top-left 5 is visible from the left and top. (It isn't visible from the right or bottom since other trees of height 5 are in the way.)\n",
    "The top-middle 5 is visible from the top and right.\n",
    "The top-right 1 is not visible from any direction; for it to be visible, there would need to only be trees of height 0 between it and an edge.\n",
    "The left-middle 5 is visible, but only from the right.\n",
    "The center 3 is not visible from any direction; for it to be visible, there would need to be only trees of at most height 2 between it and an edge.\n",
    "The right-middle 3 is visible from the right.\n",
    "In the bottom row, the middle 5 is visible, but the 3 and 4 are not.\n",
    "With 16 trees visible on the edge and another 5 visible in the interior, a total of 21 trees are visible in this arrangement.\n",
    "\n",
    "Consider your map; how many trees are visible from outside the grid?"
   ]
  },
  {
   "cell_type": "code",
   "execution_count": 86,
   "metadata": {},
   "outputs": [
    {
     "name": "stdout",
     "output_type": "stream",
     "text": [
      "   1  2  3  4  5  6  7  8  9  10  ... 90 91 92 93 94 95 96 97 98 99\n",
      "0   1  2  2  2  0  2  2  1  2  3  ...  3  2  1  2  0  2  0  1  2  1\n",
      "1   2  1  2  1  2  2  1  2  2  0  ...  1  3  1  0  2  2  1  0  0  2\n",
      "2   2  0  0  0  1  0  2  3  3  1  ...  1  1  3  2  3  0  0  0  0  2\n",
      "3   1  2  0  1  0  1  1  1  0  2  ...  3  0  3  1  3  1  1  1  1  1\n",
      "4   1  2  0  1  1  0  2  2  3  2  ...  1  0  3  0  2  0  0  2  2  2\n",
      ".. .. .. .. .. .. .. .. .. .. ..  ... .. .. .. .. .. .. .. .. .. ..\n",
      "94  2  0  2  1  3  1  3  2  2  3  ...  1  2  2  3  0  1  1  3  1  1\n",
      "95  1  0  2  2  3  3  1  2  3  0  ...  3  3  3  2  2  0  0  1  2  1\n",
      "96  0  1  0  1  1  2  3  3  1  2  ...  1  0  1  2  3  0  1  0  1  2\n",
      "97  1  0  2  0  0  1  3  2  1  1  ...  0  1  3  1  1  2  1  2  0  2\n",
      "98  1  0  2  1  0  0  0  2  0  2  ...  2  0  0  2  1  2  2  0  0  0\n",
      "\n",
      "[99 rows x 99 columns]\n"
     ]
    }
   ],
   "source": [
    "import re\n",
    "import pandas as pd\n",
    "\n",
    "new_data = list(filter(None, [re.split('', i.strip('\\n')) for i in open(\"./data.txt\")]))\n",
    "result = pandas.DataFrame(new_data)\n",
    "result = result.iloc[:,1:len(result.iloc[0,:])-1]\n",
    "result_inside= result.iloc[1:len(result.iloc[:,0])-1, 1:len(result.iloc[0,:])-1]\n",
    "\n",
    "print(result)"
   ]
  },
  {
   "cell_type": "code",
   "execution_count": 87,
   "metadata": {},
   "outputs": [],
   "source": [
    "trees_sum=0\n",
    "for index, row in result_inside.iterrows():\n",
    "    for column in range(2,len(row)+2):\n",
    "        #result column index start with 0\n",
    "        if (row[column]>result.iloc[:index,column-1].max()):\n",
    "            trees_sum+=1\n",
    "        elif(row[column]>result.iloc[index+1:,column-1].max()):\n",
    "            trees_sum+=1\n",
    "        elif(row[column]>result.iloc[index][:column-1].max()):\n",
    "            trees_sum+=1\n",
    "        elif(row[column]>result.iloc[index][column:].max()):\n",
    "            trees_sum+=1\n"
   ]
  },
  {
   "cell_type": "code",
   "execution_count": 88,
   "metadata": {},
   "outputs": [
    {
     "name": "stdout",
     "output_type": "stream",
     "text": [
      "1763\n"
     ]
    }
   ],
   "source": [
    "part1=0\n",
    "part1=trees_sum+len(result)*4-4\n",
    "print(part1)\n"
   ]
  },
  {
   "cell_type": "code",
   "execution_count": 109,
   "metadata": {},
   "outputs": [],
   "source": [
    "multi_value_max=0\n",
    "for index, row in result_inside.iterrows():\n",
    "    #column range 2-99\n",
    "    for column in range(2,len(row)+2):\n",
    "        #result column index range:  0~98\n",
    "        df_up=result.iloc[:index,column-1]\n",
    "        df_down=result.iloc[index+1:,column-1]\n",
    "        df_left=result.iloc[index][:column-1]\n",
    "        df_right=result.iloc[index][column:]\n",
    "\n",
    "        if (row[column]>df_up.max()):\n",
    "            trees_up=index\n",
    "        else:\n",
    "            trees_up=index-df_up.index[pd.to_numeric(df_up.ge(row[column]))].tolist()[-1]\n",
    "\n",
    "        if(row[column]>df_down.max()):\n",
    "            trees_down=len(result)-index-1\n",
    "        else:\n",
    "            trees_down=df_down.index[pd.to_numeric(df_down.ge(row[column]))].tolist()[0]-index\n",
    "\n",
    "        if(row[column]>df_left.max()):\n",
    "            trees_left=column-1\n",
    "        else:\n",
    "            trees_left=column-df_left.index[pd.to_numeric(df_left.ge(row[column]))].tolist()[-1]\n",
    "\n",
    "        if(row[column]>df_right.max()):\n",
    "            trees_right=len(result)-column\n",
    "        else:\n",
    "            trees_right=df_right.index[pd.to_numeric(df_right.ge(row[column]))].tolist()[0]-column\n",
    "\n",
    "        multi_value=trees_up*trees_down*trees_left*trees_right\n",
    "        multi_value_max=max(multi_value,multi_value_max)"
   ]
  },
  {
   "cell_type": "code",
   "execution_count": 108,
   "metadata": {},
   "outputs": [
    {
     "name": "stdout",
     "output_type": "stream",
     "text": [
      "671160\n"
     ]
    }
   ],
   "source": [
    "print(multi_value_max)\n"
   ]
  },
  {
   "cell_type": "code",
   "execution_count": null,
   "metadata": {},
   "outputs": [],
   "source": []
  }
 ],
 "metadata": {
  "kernelspec": {
   "display_name": "Python 3",
   "language": "python",
   "name": "python3"
  },
  "language_info": {
   "codemirror_mode": {
    "name": "ipython",
    "version": 3
   },
   "file_extension": ".py",
   "mimetype": "text/x-python",
   "name": "python",
   "nbconvert_exporter": "python",
   "pygments_lexer": "ipython3",
   "version": "3.7.6"
  }
 },
 "nbformat": 4,
 "nbformat_minor": 4
}
