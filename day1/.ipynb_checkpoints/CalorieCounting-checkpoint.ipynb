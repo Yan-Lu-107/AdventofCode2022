{
 "cells": [
  {
   "cell_type": "code",
   "execution_count": null,
   "metadata": {},
   "outputs": [],
   "source": [
    "my_file = open('./data.txt', \"r\")\n",
    "data = my_file.read()\n",
    "data_into_list = data.split(\"\\n\\n\")\n",
    "sum_data=[]\n",
    "for i in range(len(data_into_list)):\n",
    "    data=data_into_list[i].split(\"\\n\")\n",
    "    if (\"\" in data):\n",
    "        data.remove(\"\")\n",
    "    sum_data.append( sum([eval(i) for i in data]))"
   ]
  },
  {
   "cell_type": "code",
   "execution_count": null,
   "metadata": {},
   "outputs": [],
   "source": [
    "#part1\n",
    "print(max(sum_data))"
   ]
  },
  {
   "cell_type": "code",
   "execution_count": null,
   "metadata": {},
   "outputs": [],
   "source": [
    "#part2\n",
    "print(sum(sorted(sum_data, reverse=True)[:3]))"
   ]
  }
 ],
 "metadata": {
  "kernelspec": {
   "display_name": "Python 3",
   "language": "python",
   "name": "python3"
  },
  "language_info": {
   "codemirror_mode": {
    "name": "ipython",
    "version": 3
   },
   "file_extension": ".py",
   "mimetype": "text/x-python",
   "name": "python",
   "nbconvert_exporter": "python",
   "pygments_lexer": "ipython3",
   "version": "3.7.6"
  }
 },
 "nbformat": 4,
 "nbformat_minor": 4
}
